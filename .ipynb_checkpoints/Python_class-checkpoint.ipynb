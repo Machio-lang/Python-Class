{
 "cells": [
  {
   "cell_type": "code",
   "execution_count": null,
   "id": "1e889db2-f060-4f9a-99e7-15c4b74b323c",
   "metadata": {},
   "outputs": [],
   "source": [
    "## Personal details"
   ]
  },
  {
   "cell_type": "code",
   "execution_count": 1,
   "id": "7efb05f7-cd2d-469a-8954-03d052030712",
   "metadata": {},
   "outputs": [],
   "source": [
    "Purity={\"fullname\": \"Purity Nekesa Machio\",\n",
    "        \"age\":22,\n",
    "        \"country\":\"Kenya\",\n",
    "        \"Marital status\":\"married\"\n",
    "       ,}"
   ]
  },
  {
   "cell_type": "code",
   "execution_count": 5,
   "id": "ea2526ee-a77b-470e-b7f9-0e247c696120",
   "metadata": {},
   "outputs": [
    {
     "data": {
      "text/plain": [
       "'Purity Nekesa Machio'"
      ]
     },
     "execution_count": 5,
     "metadata": {},
     "output_type": "execute_result"
    }
   ],
   "source": [
    "Purity[\"fullname\"]"
   ]
  },
  {
   "cell_type": "code",
   "execution_count": null,
   "id": "372e977a-71bc-4aa8-9d08-08fed46af04d",
   "metadata": {},
   "outputs": [],
   "source": []
  }
 ],
 "metadata": {
  "kernelspec": {
   "display_name": "Python 3 (ipykernel)",
   "language": "python",
   "name": "python3"
  },
  "language_info": {
   "codemirror_mode": {
    "name": "ipython",
    "version": 3
   },
   "file_extension": ".py",
   "mimetype": "text/x-python",
   "name": "python",
   "nbconvert_exporter": "python",
   "pygments_lexer": "ipython3",
   "version": "3.12.7"
  }
 },
 "nbformat": 4,
 "nbformat_minor": 5
}
